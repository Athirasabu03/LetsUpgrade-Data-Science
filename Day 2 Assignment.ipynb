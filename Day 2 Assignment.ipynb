{
 "cells": [
  {
   "cell_type": "markdown",
   "metadata": {},
   "source": [
    "# Question 1"
   ]
  },
  {
   "cell_type": "code",
   "execution_count": 16,
   "metadata": {},
   "outputs": [
    {
     "name": "stdout",
     "output_type": "stream",
     "text": [
      "5\n",
      "6\n",
      "[6]\n",
      "2\n",
      "[6, 2]\n",
      "9\n",
      "8\n",
      "[6, 2, 8]\n",
      "7\n",
      "6\n",
      "[6, 2, 8, 6]\n",
      "2\n",
      "[6, 2, 8, 6, 2]\n",
      "4\n",
      "[6, 2, 8, 6, 2, 4]\n",
      "3\n"
     ]
    }
   ],
   "source": [
    "import math\n",
    "lst=[]\n",
    "def is_Even(n):\n",
    "    if n%2==0:\n",
    "        lst.append(n)\n",
    "        print(lst)\n",
    "    else:\n",
    "            return False\n",
    "for num in range(10):\n",
    "    num=int(input( ))\n",
    "    \n",
    "    is_Even(num)\n",
    "    "
   ]
  },
  {
   "cell_type": "markdown",
   "metadata": {},
   "source": [
    "# Question 2"
   ]
  },
  {
   "cell_type": "code",
   "execution_count": 3,
   "metadata": {},
   "outputs": [
    {
     "name": "stdout",
     "output_type": "stream",
     "text": [
      "[0, 2, 4, 6, 8, 10, 12, 14, 16, 18]\n"
     ]
    }
   ],
   "source": [
    "#Iterating if conditional statement using list comprehension\n",
    "num_lst=[x for x in range(20) if x%2==0]\n",
    "print(num_lst)"
   ]
  },
  {
   "cell_type": "code",
   "execution_count": 10,
   "metadata": {},
   "outputs": [
    {
     "name": "stdout",
     "output_type": "stream",
     "text": [
      "[[1, 3, 5, 7], [2, 4, 6, 8]]\n"
     ]
    }
   ],
   "source": [
    "#Transpose of a matrix using list comprehension\n",
    "matrix=[[1,2],[3,4],[5,6],[7,8]]\n",
    "transpose=[[row[i] for row in matrix]for i in range(2)]\n",
    "print(transpose)"
   ]
  },
  {
   "cell_type": "code",
   "execution_count": 11,
   "metadata": {},
   "outputs": [
    {
     "name": "stdout",
     "output_type": "stream",
     "text": [
      "['a', 't', 'h', 'i', 'r', 'a']\n"
     ]
    }
   ],
   "source": [
    "#Iterating through a string using list comprehension\n",
    "It=[letter for letter in 'athira']\n",
    "print(It)"
   ]
  },
  {
   "cell_type": "markdown",
   "metadata": {},
   "source": [
    "# Question 3"
   ]
  },
  {
   "cell_type": "code",
   "execution_count": 14,
   "metadata": {},
   "outputs": [
    {
     "name": "stdout",
     "output_type": "stream",
     "text": [
      "5\n",
      "{1: 1, 2: 4, 3: 9, 4: 16, 5: 25}\n"
     ]
    }
   ],
   "source": [
    "n=int(input())\n",
    "dt={}\n",
    "for i in range(1,n+1):\n",
    "    dt[i]=i*i\n",
    "    \n",
    "print(dt)"
   ]
  },
  {
   "cell_type": "markdown",
   "metadata": {},
   "source": [
    "# Question 4"
   ]
  },
  {
   "cell_type": "code",
   "execution_count": 19,
   "metadata": {},
   "outputs": [
    {
     "name": "stdout",
     "output_type": "stream",
     "text": [
      "5\n",
      "2\n",
      "2\n",
      "8\n",
      "6\n",
      "5\n",
      "0\n"
     ]
    }
   ],
   "source": [
    "psn={\"x\":0, \"y\":0}\n",
    "x=int(input())\n",
    "for i in range(x):\n",
    "    mve=input().split(\" \")\n",
    "    if mve[0].upper()==\"UP\":\n",
    "        pos[\"y\"]+=int(mve[1])\n",
    "    elif mve[0].upper()==\"DOWN\":\n",
    "        pos[\"y\"]-=int(mve[1])\n",
    "    elif mve[0].upper()==\"LEFT\":\n",
    "        pos[\"y\"]-=int(mve[1])\n",
    "    elif mve[0].upper()==\"RIGHT\":\n",
    "        pos[\"y\"]+=int(mve[1])\n",
    "\n",
    "print(int(round((psn[\"x\"]**2+psn[\"y\"]**2)**0.5)))"
   ]
  },
  {
   "cell_type": "code",
   "execution_count": null,
   "metadata": {},
   "outputs": [],
   "source": []
  }
 ],
 "metadata": {
  "kernelspec": {
   "display_name": "Python 3",
   "language": "python",
   "name": "python3"
  },
  "language_info": {
   "codemirror_mode": {
    "name": "ipython",
    "version": 3
   },
   "file_extension": ".py",
   "mimetype": "text/x-python",
   "name": "python",
   "nbconvert_exporter": "python",
   "pygments_lexer": "ipython3",
   "version": "3.8.3"
  }
 },
 "nbformat": 4,
 "nbformat_minor": 4
}
