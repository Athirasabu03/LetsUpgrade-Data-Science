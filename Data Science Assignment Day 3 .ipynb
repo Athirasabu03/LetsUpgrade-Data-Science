{
 "cells": [
  {
   "cell_type": "markdown",
   "metadata": {},
   "source": [
    "# Question 1"
   ]
  },
  {
   "cell_type": "code",
   "execution_count": 1,
   "metadata": {},
   "outputs": [],
   "source": [
    "import numpy as np"
   ]
  },
  {
   "cell_type": "code",
   "execution_count": 2,
   "metadata": {},
   "outputs": [
    {
     "name": "stdout",
     "output_type": "stream",
     "text": [
      "1.18.5\n"
     ]
    }
   ],
   "source": [
    "print(np.__version__)"
   ]
  },
  {
   "cell_type": "code",
   "execution_count": 5,
   "metadata": {},
   "outputs": [
    {
     "data": {
      "text/plain": [
       "array([ 2,  5,  8, 11, 14, 17, 20, 23, 26, 29, 32, 35, 38, 41, 44, 47])"
      ]
     },
     "execution_count": 5,
     "metadata": {},
     "output_type": "execute_result"
    }
   ],
   "source": [
    "np.arange(50)[2:50:3]"
   ]
  },
  {
   "cell_type": "markdown",
   "metadata": {},
   "source": [
    "# Question 2"
   ]
  },
  {
   "cell_type": "code",
   "execution_count": 46,
   "metadata": {},
   "outputs": [
    {
     "name": "stdout",
     "output_type": "stream",
     "text": [
      "Enter size of list5\n",
      "\n",
      "Enter list numbers1 2 3 4 5\n",
      " First list:  [1, 2, 3, 4, 5]\n",
      "\n",
      "Enter size of list5\n",
      "\n",
      "Enter list numbers9 8 7 6 5\n",
      "\n",
      "First array converted to numpy array [1 2 3 4 5]\n",
      "Second array converted to numpy array [9 8 7 6 5]\n",
      "\n",
      "Concatenated Array:  [1 2 3 4 5 9 8 7 6 5]\n",
      "\n",
      "Sorted Array is:  [1 2 3 4 5 5 6 7 8 9]\n"
     ]
    }
   ],
   "source": [
    "list1=int(input(\"Enter size of list\"))\n",
    "print()\n",
    "numlist=list(int(num)for num in input(\"Enter list numbers\").strip().split())[:list1]\n",
    "print(\" First list: \",numlist)\n",
    "print()\n",
    "list2=int(input(\"Enter size of list\"))\n",
    "print()\n",
    "numlist2=list(int(num)for num in input(\"Enter list numbers\").strip().split())[:list2]\n",
    "print()\n",
    "arr1=np.array(numlist)\n",
    "arr2=np.array(numlist2)\n",
    "print(\"First array converted to numpy array\",arr1)\n",
    "print(\"Second array converted to numpy array\",arr2)\n",
    "print()\n",
    "\n",
    "concatenatedArray=np.concatenate((arr1,arr2),axis=0)\n",
    "print(\"Concatenated Array: \",concatenatedArray)\n",
    "print()\n",
    "concatenatedArray.sort()\n",
    "print(\"Sorted Array is: \",concatenatedArray)\n"
   ]
  },
  {
   "cell_type": "markdown",
   "metadata": {},
   "source": [
    "# Question 3"
   ]
  },
  {
   "cell_type": "code",
   "execution_count": 10,
   "metadata": {},
   "outputs": [
    {
     "name": "stdout",
     "output_type": "stream",
     "text": [
      "The dimension of array is: 2\n",
      "The size of array is: 9\n"
     ]
    }
   ],
   "source": [
    "arr=np.array([[1,2,3],[4,5,6],[7,8,9]])\n",
    "print(\"The dimension of array is:\",arr.ndim)\n",
    "print(\"The size of array is:\",arr.size)"
   ]
  },
  {
   "cell_type": "markdown",
   "metadata": {},
   "source": [
    "# Question 4"
   ]
  },
  {
   "cell_type": "code",
   "execution_count": 13,
   "metadata": {},
   "outputs": [
    {
     "name": "stdout",
     "output_type": "stream",
     "text": [
      "The array in 1 D is: [0 1 2 3 4 5 6 7 8 9]\n",
      "The array in 2 D is: [[0 1 2 3 4]\n",
      " [5 6 7 8 9]]\n"
     ]
    }
   ],
   "source": [
    "arr=np.array([0,1,2,3,4,5,6,7,8,9])\n",
    "print(\"The array in 1 D is:\",arr)\n",
    "arr2=np.reshape(arr,(2,5))\n",
    "print(\"The array in 2 D is:\",arr2)"
   ]
  },
  {
   "cell_type": "markdown",
   "metadata": {},
   "source": [
    "# Question 5"
   ]
  },
  {
   "cell_type": "code",
   "execution_count": 19,
   "metadata": {},
   "outputs": [
    {
     "name": "stdout",
     "output_type": "stream",
     "text": [
      "[[ 1  2  3]\n",
      " [ 4  5  6]\n",
      " [ 7  8  9]\n",
      " [11 12 13]\n",
      " [14 15 16]\n",
      " [17 18 19]]\n",
      "[[ 1  2  3 11 12 13]\n",
      " [ 4  5  6 14 15 16]\n",
      " [ 7  8  9 17 18 19]]\n"
     ]
    }
   ],
   "source": [
    "a=np.array([[1,2,3],[4,5,6],[7,8,9]])\n",
    "b=np.array([[11,12,13],[14,15,16],[17,18,19]])\n",
    "outc=np.vstack((a,b))\n",
    "outd=np.hstack((a,b))\n",
    "print(outc)\n",
    "print(outd)\n"
   ]
  },
  {
   "cell_type": "markdown",
   "metadata": {},
   "source": [
    "# Question 6"
   ]
  },
  {
   "cell_type": "code",
   "execution_count": 42,
   "metadata": {},
   "outputs": [
    {
     "name": "stdout",
     "output_type": "stream",
     "text": [
      "the unique values from 1st list is\n",
      "10\n",
      "20\n",
      "30\n",
      "40\n",
      "\n",
      "the unique values from 2nd list is\n",
      "1\n",
      "2\n",
      "3\n",
      "4\n",
      "5\n"
     ]
    }
   ],
   "source": [
    "\n",
    "def unique(list1): \n",
    "\n",
    " \n",
    "    unique_list = [] \n",
    "    \n",
    "\n",
    "    for x in list1: \n",
    " \n",
    "        if x not in unique_list: \n",
    "            unique_list.append(x) \n",
    "            \n",
    "    for x in unique_list: \n",
    "        print(x) \n",
    "\n",
    "\n",
    "\n",
    "\n",
    "list1 = [10, 20, 10, 30, 40, 40] \n",
    "print(\"the unique values from 1st list is\") \n",
    "unique(list1) \n",
    "\n",
    "\n",
    "list2 =[1, 2, 1, 1, 3, 4, 3, 3, 5] \n",
    "print(\"\\nthe unique values from 2nd list is\") \n",
    "unique(list2) \n"
   ]
  },
  {
   "cell_type": "code",
   "execution_count": null,
   "metadata": {},
   "outputs": [],
   "source": []
  }
 ],
 "metadata": {
  "kernelspec": {
   "display_name": "Python 3",
   "language": "python",
   "name": "python3"
  },
  "language_info": {
   "codemirror_mode": {
    "name": "ipython",
    "version": 3
   },
   "file_extension": ".py",
   "mimetype": "text/x-python",
   "name": "python",
   "nbconvert_exporter": "python",
   "pygments_lexer": "ipython3",
   "version": "3.8.3"
  }
 },
 "nbformat": 4,
 "nbformat_minor": 4
}
